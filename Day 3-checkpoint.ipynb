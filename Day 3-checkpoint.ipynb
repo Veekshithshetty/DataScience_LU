{
 "cells": [
  {
   "cell_type": "code",
   "execution_count": 1,
   "metadata": {},
   "outputs": [
    {
     "data": {
      "text/plain": [
       "array([ 2,  5,  8, 11, 14, 17, 20, 23, 26, 29, 32, 35, 38, 41, 44, 47])"
      ]
     },
     "execution_count": 1,
     "metadata": {},
     "output_type": "execute_result"
    }
   ],
   "source": [
    "import numpy as np\n",
    "arr=np.arange(2,50,3)\n",
    "arr"
   ]
  },
  {
   "cell_type": "code",
   "execution_count": 2,
   "metadata": {},
   "outputs": [
    {
     "name": "stdout",
     "output_type": "stream",
     "text": [
      "Enter the elements for List 1:\n",
      "2\n",
      "5\n",
      "6\n",
      "3\n",
      "4\n",
      "Enter the elements for List 2:\n",
      "5\n",
      "8\n",
      "4\n",
      "7\n",
      "5\n",
      "Concatenating the arrays: \n",
      "[2 5 6 3 4 5 8 4 7 5]\n",
      "Sorting the array:\n",
      "[2 3 4 4 5 5 5 6 7 8]\n"
     ]
    }
   ],
   "source": [
    "\n",
    "n=5\n",
    "list1=[]\n",
    "list2=[]\n",
    "print(\"Enter the elements for List 1:\")\n",
    "for i in range(5):\n",
    "    ele=int(input())\n",
    "    list1.append(ele)\n",
    "print(\"Enter the elements for List 2:\")\n",
    "for j in range(5):\n",
    "    ele=int(input())\n",
    "    list2.append(ele)\n",
    "arr1=np.array(list1)\n",
    "arr2=np.array(list2)\n",
    "print(\"Concatenating the arrays: \")\n",
    "arr3=np.concatenate((arr1,arr2))\n",
    "print(arr3)\n",
    "print(\"Sorting the array:\")\n",
    "print(np.sort(arr3))"
   ]
  },
  {
   "cell_type": "code",
   "execution_count": 3,
   "metadata": {},
   "outputs": [
    {
     "name": "stdout",
     "output_type": "stream",
     "text": [
      "Dimension of the array :  2\n",
      "Size of the array :  12\n"
     ]
    }
   ],
   "source": [
    "arr=np.array([[3,12,55],\n",
    "             [8,4,3],\n",
    "             [33,15,78],\n",
    "             [90,12,44]])\n",
    "print(\"Dimension of the array : \",np.ndim(arr))\n",
    "print(\"Size of the array : \",np.size(arr))"
   ]
  },
  {
   "cell_type": "code",
   "execution_count": 4,
   "metadata": {},
   "outputs": [
    {
     "name": "stdout",
     "output_type": "stream",
     "text": [
      "1D array :\n",
      "2D array using reshape() :\n",
      " [[0 1 2 3 4]\n",
      " [5 6 7 8 9]]\n",
      "2D array using newaxis :\n",
      " [[0 1 2 3 4 5 6 7 8 9]]\n",
      "2D array using expand_dims() :\n",
      " [[0 1 2 3 4 5 6 7 8 9]]\n"
     ]
    }
   ],
   "source": [
    "arr = np.array([0, 1, 2, 3, 4, 5, 6, 7, 8, 9])\n",
    "print(\"1D array :\")\n",
    "arr_2d = np.reshape(arr, (2, 5))\n",
    "print(\"2D array using reshape() :\\n\",arr_2d)\n",
    "arr_2d=arr[np.newaxis,:]\n",
    "print(\"2D array using newaxis :\\n\",arr_2d)\n",
    "arr_2d=np.expand_dims(arr,axis=0)\n",
    "print(\"2D array using expand_dims() :\\n\",arr_2d)"
   ]
  },
  {
   "cell_type": "code",
   "execution_count": 5,
   "metadata": {},
   "outputs": [
    {
     "name": "stdout",
     "output_type": "stream",
     "text": [
      "Array 1:\n",
      " [[ 1  4  5]\n",
      " [ 3  5  8]\n",
      " [11  6 33]]\n",
      "Array 2:\n",
      " [[11 34  5]\n",
      " [37 55 78]\n",
      " [ 1 16  3]]\n",
      "Stacking arrays vertically :\n",
      " [[ 1  4  5]\n",
      " [ 3  5  8]\n",
      " [11  6 33]\n",
      " [11 34  5]\n",
      " [37 55 78]\n",
      " [ 1 16  3]]\n",
      "Stacking arrays horizontally :\n",
      " [[ 1  4  5 11 34  5]\n",
      " [ 3  5  8 37 55 78]\n",
      " [11  6 33  1 16  3]]\n"
     ]
    }
   ],
   "source": [
    "arr1=np.array([[1,4,5],\n",
    "      [3,5,8],\n",
    "      [11,6,33]])\n",
    "arr2=np.array([[11,34,5],\n",
    "      [37,55,78],\n",
    "      [1,16,3]])\n",
    "print(\"Array 1:\\n\",arr1)\n",
    "print(\"Array 2:\\n\",arr2)\n",
    "print(\"Stacking arrays vertically :\\n\",np.vstack((arr1,arr2)))\n",
    "print(\"Stacking arrays horizontally :\\n\",np.hstack((arr1,arr2)))"
   ]
  },
  {
   "cell_type": "code",
   "execution_count": 6,
   "metadata": {},
   "outputs": [
    {
     "name": "stdout",
     "output_type": "stream",
     "text": [
      "The array is :\n",
      " [ 1 55  3 43 67 22 89  3 55 77 22 89  0  5 55 37 98  3 67 89 98]\n",
      "Unique items in array :\n",
      " [ 0  1  3  5 22 37 43 55 67 77 89 98]\n",
      "Number of unique items is : 12\n"
     ]
    }
   ],
   "source": [
    "\n",
    "arr1=np.array([1,55,3,43,67,22,89,3,55,77,22,89,0,5,55,37,98,3,67,89,98])\n",
    "print(\"The array is :\\n\",arr1)\n",
    "un,count1=np.unique(arr1,return_counts=True)\n",
    "print(\"Unique items in array :\\n\",un)\n",
    "print(\"Number of unique items is :\",np.size(count1))"
   ]
  },
  {
   "cell_type": "code",
   "execution_count": null,
   "metadata": {},
   "outputs": [],
   "source": []
  }
 ],
 "metadata": {
  "kernelspec": {
   "display_name": "Python 3",
   "language": "python",
   "name": "python3"
  },
  "language_info": {
   "codemirror_mode": {
    "name": "ipython",
    "version": 3
   },
   "file_extension": ".py",
   "mimetype": "text/x-python",
   "name": "python",
   "nbconvert_exporter": "python",
   "pygments_lexer": "ipython3",
   "version": "3.7.4"
  }
 },
 "nbformat": 4,
 "nbformat_minor": 2
}
